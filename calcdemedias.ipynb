{
  "nbformat": 4,
  "nbformat_minor": 0,
  "metadata": {
    "colab": {
      "provenance": []
    },
    "kernelspec": {
      "name": "python3",
      "display_name": "Python 3"
    },
    "language_info": {
      "name": "python"
    }
  },
  "cells": [
    {
      "cell_type": "code",
      "execution_count": 6,
      "metadata": {
        "colab": {
          "base_uri": "https://localhost:8080/"
        },
        "id": "8jyEgULX52K-",
        "outputId": "adffeb56-5086-4c4c-b9f6-b1532a616329"
      },
      "outputs": [
        {
          "output_type": "stream",
          "name": "stdout",
          "text": [
            "Digite sua primeira nota: 4\n",
            "Digite sua segunda nota: 7\n",
            "Você pode fazer recuperação. Essa é sua média:  5.0\n"
          ]
        }
      ],
      "source": [
        "#calculo da media aritmética das notas de um aluno\n",
        "a= float(input(\"Digite sua primeira nota: \"))\n",
        "b= float(input(\"Digite sua segunda nota: \"))\n",
        "\n",
        "if ((a+b)//2) < 4:\n",
        "  c= ((a+b)//2)\n",
        "  print(\"Você está reprovado. Essa é sua média: \", c)\n",
        "\n",
        "\n",
        "elif ((a+b)//2) > 7:\n",
        "  d= ((a+b)//2)\n",
        "  print(\"Você está aprovado! Essa é sua média: \", d)\n",
        "\n",
        "elif  4 < ((a+b)//2) < 7:\n",
        " e= ((a+b)//2)\n",
        " print(\"Você pode fazer recuperação. Essa é sua média: \", e)"
      ]
    }
  ]
}