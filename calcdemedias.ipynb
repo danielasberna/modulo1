#calculo da media aritmética das notas de um aluno
a= float(input("Digite sua primeira nota: "))
b= float(input("Digite sua segunda nota: "))

if ((a+b)//2) < 4:
  c= ((a+b)//2)
  print("Você está reprovado. Essa é sua média: ", c)


elif ((a+b)//2) > 7:
  d= ((a+b)//2)
  print("Você está aprovado! Essa é sua média: ", d)

elif  4 < ((a+b)//2) < 7:
 e= ((a+b)//2)
 print("Você pode fazer recuperação. Essa é sua média: ", e)
