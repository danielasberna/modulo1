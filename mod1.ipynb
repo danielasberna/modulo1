{
 "cells": [
  {
   "cell_type": "code",
   "execution_count": null,
   "id": "4a398614",
   "metadata": {},
   "outputs": [],
   "source": [
    "arquivo teste"
   ]
  }
 ],
 "metadata": {
  "language_info": {
   "name": "python"
  }
 },
 "nbformat": 4,
 "nbformat_minor": 5
}
